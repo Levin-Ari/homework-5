{
 "cells": [
  {
   "cell_type": "markdown",
   "id": "799843fb",
   "metadata": {},
   "source": [
    "In this notebook you'll be using [Spotipy](https://github.com/spotipy-dev/spotipy), a Python package, to talk to the Spotify API. This means you won't have to manually create API URLs, you'll just need to figure out how to make Spotipy do it for you! The full Spotipy documentation is available at [https://spotipy.readthedocs.io/](https://spotipy.readthedocs.io/)\n",
    "\n",
    "# To access *public* Spotify data\n",
    "\n",
    "You'll want to go to the [Spotify for Developers Dashboard](https://developer.spotify.com/dashboard) and create a new app. This will give you a `client_id` and `client_secret`! It's like a super-advanced version of an API key. When you're setting up your app it will probably also ask you for other things like a redirect URL - just put whatever you want in there, it doesn't matter. If it asks what you want access to, you can pick the Web API (but I don't think it matters).\n",
    "\n",
    "> The code below won't work since it's *my* secret keys. I've deleted them so that this notebook is nice and safe for me!"
   ]
  },
  {
   "cell_type": "code",
   "execution_count": 1,
   "id": "2c8442ac-1cac-447c-92bf-2cc2bb49a2d0",
   "metadata": {},
   "outputs": [],
   "source": [
    "from dotenv import load_dotenv\n",
    "import os\n",
    "load_dotenv()\n",
    "client_id=os.getenv(\"client_id\")\n",
    "client_secret=os.getenv(\"client_secret\")"
   ]
  },
  {
   "cell_type": "code",
   "execution_count": 2,
   "id": "b53ee125-9349-4434-8e01-5369c4145342",
   "metadata": {},
   "outputs": [],
   "source": [
    "import spotipy\n",
    "from spotipy.oauth2 import SpotifyClientCredentials\n",
    "\n",
    "sp = spotipy.Spotify(auth_manager=SpotifyClientCredentials(\n",
    "    client_id=client_id,\n",
    "    client_secret=client_secret,\n",
    "))"
   ]
  },
  {
   "cell_type": "markdown",
   "id": "df431b17",
   "metadata": {},
   "source": [
    "When you want data from Spotify, you can't just go to `/artists/Pixies` in order to get work by Pixies! You have to find a special code for the artist (or song, or album, or whatever). It's called the `uri`.\n",
    "\n",
    "> You can find more details on searching [on the Spotipy documentation](https://spotipy.readthedocs.io/en/2.22.1/#spotipy.client.Spotify.search) or the [Spotify Web API documentation](https://developer.spotify.com/documentation/web-api/reference/search). Remember that Spotipy is a Python wrapper for the Spotify API, so you don't need to work with any URLs!\n",
    "\n",
    "To find the `uri`, you first need to do a search. Below we use `sp.search` to search for a particular artist."
   ]
  },
  {
   "cell_type": "code",
   "execution_count": 3,
   "id": "23ca8854-ccdf-4225-b542-c2dc113bd8e7",
   "metadata": {},
   "outputs": [],
   "source": [
    "# Search for the artist Pixies\n",
    "results = sp.search(q='artist:Rush', type='artist')"
   ]
  },
  {
   "cell_type": "markdown",
   "id": "7721bc81",
   "metadata": {},
   "source": [
    "The `results` it shows us is awful and long and terrible. Instead of showing you how to do that, I already poked through it and found the top artist result from our search."
   ]
  },
  {
   "cell_type": "code",
   "execution_count": 4,
   "id": "2b8eed9b-b34e-419e-b621-7246f5437f4b",
   "metadata": {},
   "outputs": [
    {
     "data": {
      "text/plain": [
       "{'external_urls': {'spotify': 'https://open.spotify.com/artist/2Hkut4rAAyrQxRdof7FVJq'},\n",
       " 'followers': {'href': None, 'total': 2489525},\n",
       " 'genres': ['progressive rock', 'classic rock', 'rock', 'hard rock', 'aor'],\n",
       " 'href': 'https://api.spotify.com/v1/artists/2Hkut4rAAyrQxRdof7FVJq',\n",
       " 'id': '2Hkut4rAAyrQxRdof7FVJq',\n",
       " 'images': [{'url': 'https://i.scdn.co/image/ab6761610000e5eb896c4b043fb3063178afd716',\n",
       "   'height': 640,\n",
       "   'width': 640},\n",
       "  {'url': 'https://i.scdn.co/image/ab67616100005174896c4b043fb3063178afd716',\n",
       "   'height': 320,\n",
       "   'width': 320},\n",
       "  {'url': 'https://i.scdn.co/image/ab6761610000f178896c4b043fb3063178afd716',\n",
       "   'height': 160,\n",
       "   'width': 160}],\n",
       " 'name': 'Rush',\n",
       " 'popularity': 67,\n",
       " 'type': 'artist',\n",
       " 'uri': 'spotify:artist:2Hkut4rAAyrQxRdof7FVJq'}"
      ]
     },
     "execution_count": 4,
     "metadata": {},
     "output_type": "execute_result"
    }
   ],
   "source": [
    "results['artists']['items'][0]"
   ]
  },
  {
   "cell_type": "markdown",
   "id": "f9c8b4d0",
   "metadata": {},
   "source": [
    "There we go! The `uri` looks to be `spotify:artist:6zvul52xwTWzilBZl6BUbT`.\n",
    "\n",
    "Now the sad part: the Spotipy documentation is...... not great. The Spotify Web API docs look good, *but* we're using the Python wrapper, not the raw Spotify API! Luckily Spotipy has a great [list of examples](https://github.com/spotipy-dev/spotipy/tree/master/examples), including one for [an artist's top tracks](https://github.com/spotipy-dev/spotipy/blob/master/examples/simple_artist_top_tracks.py).\n",
    "\n",
    "```python\n",
    "from spotipy.oauth2 import SpotifyClientCredentials\n",
    "import spotipy\n",
    "\n",
    "lz_uri = 'spotify:artist:36QJpDe2go2KgaRleHCDTp'\n",
    "\n",
    "client_credentials_manager = SpotifyClientCredentials()\n",
    "sp = spotipy.Spotify(client_credentials_manager=client_credentials_manager)\n",
    "\n",
    "results = sp.artist_top_tracks(lz_uri)\n",
    "\n",
    "for track in results['tracks'][:10]:\n",
    "    print('track    : ' + track['name'])\n",
    "    print('audio    : ' + track['preview_url'])\n",
    "    print('cover art: ' + track['album']['images'][0]['url'])\n",
    "```\n",
    "\n",
    "Since we already have the credentials and blah blah blah set up, all we need to do is adapt the `sp.artist_top_tracks(lz_uri)` line and everything below it."
   ]
  },
  {
   "cell_type": "code",
   "execution_count": 5,
   "id": "947ff2a4-1be0-4dc5-9eeb-0a0dff9fff4f",
   "metadata": {},
   "outputs": [
    {
     "name": "stdout",
     "output_type": "stream",
     "text": [
      "track    : Tom Sawyer\n",
      "cover art: https://i.scdn.co/image/ab67616d0000b27372833c1ae3343cbfb4617073\n",
      "track    : Limelight\n",
      "cover art: https://i.scdn.co/image/ab67616d0000b27372833c1ae3343cbfb4617073\n",
      "track    : The Spirit Of Radio\n",
      "cover art: https://i.scdn.co/image/ab67616d0000b27306c0d7ebcabad0c39b566983\n",
      "track    : Closer To The Heart\n",
      "cover art: https://i.scdn.co/image/ab67616d0000b273c3d872d5405c76e3956cbbb6\n",
      "track    : Fly By Night\n",
      "cover art: https://i.scdn.co/image/ab67616d0000b27311079bb97e1f95d1a917ce0b\n",
      "track    : Working Man\n",
      "cover art: https://i.scdn.co/image/ab67616d0000b273b5ad3ae448fd8e160c341b7a\n",
      "track    : YYZ\n",
      "cover art: https://i.scdn.co/image/ab67616d0000b27372833c1ae3343cbfb4617073\n",
      "track    : Subdivisions\n",
      "cover art: https://i.scdn.co/image/ab67616d0000b273abebd4d9947e535ab56572fc\n",
      "track    : Freewill\n",
      "cover art: https://i.scdn.co/image/ab67616d0000b27306c0d7ebcabad0c39b566983\n",
      "track    : Red Barchetta\n",
      "cover art: https://i.scdn.co/image/ab67616d0000b27372833c1ae3343cbfb4617073\n"
     ]
    }
   ],
   "source": [
    "results = sp.artist_top_tracks('spotify:artist:2Hkut4rAAyrQxRdof7FVJq')\n",
    "\n",
    "for track in results['tracks'][:10]:\n",
    "    print('track    : ' + track['name'])\n",
    "    print('cover art: ' + track['album']['images'][0]['url'])"
   ]
  },
  {
   "cell_type": "markdown",
   "id": "e5a7a659",
   "metadata": {},
   "source": [
    "And that's about it! You use magic codes and it lets you get up-to-date information."
   ]
  },
  {
   "cell_type": "markdown",
   "id": "3ef05e15",
   "metadata": {},
   "source": [
    "# Your mission\n",
    "\n",
    "I recently came across a Spotify playlist called [Fall in a 90s Suburb](https://open.spotify.com/playlist/7r2XnAUl6moWkcwOaWgihD?si=505c8f22f4314a33) while researching the band [SEAGULL SCREAMING KISS HER KISS HER](https://open.spotify.com/artist/1WSO9nf7wTj5DZBsncauGr?si=S0xpngxHR1mLF720lMZwxg). The playlist was pretty good, but since since SSKHKH only has like 1,500 listeners each month I was curious about the most/least popular songs on the playlist.\n",
    "\n",
    "## My questions\n",
    "\n",
    "1. What are the ten most popular songs on the playlist?\n",
    "2. What percentage of them have a popularity of zero? Print them out, sorted by the band name.\n",
    "3. Is popularity relative to the artist, the album, all songs on Spotify, or something else?\n",
    "\n",
    "### My suggested approach\n",
    "\n",
    "I suggest approaching this through the following steps:\n",
    "\n",
    "1. Getting the playlist and print out its **name and description**. \n",
    "2. Print out **the name and popularity of each song**\n",
    "3. Print out **the name, popularity, and artists** of each track on the playlist. Or, if you'd like a shortcut, just pick the first artist.\n",
    "4. Instead of printing, use these to **create a new dictionary** each time you look at a track. Print out this dictionary. You should be printing out 476 dictionaries!\n",
    "5. Printing isn't helpful! Instead, after you create the dictionary **append it** to a list called `all_tracks`\n",
    "6. When you're done, `all_tracks` should have 476 items in it\n",
    "7. Sort the list by `popularity`, take the **top ten**\n",
    "8. Filter the list by `popularity`, selecting only the ones with a popularity of `0`\n",
    "\n",
    "### Tips\n",
    "\n",
    "**Spotipy documentation:** https://spotipy.readthedocs.io/\n",
    "\n",
    "**Spotify Web API documentation:** https://developer.spotify.com/documentation/web-api/\n",
    "\n",
    "- Do this in many, many cells, not all in one!\n",
    "- You definitely want to [look at the Spotipy examples](https://github.com/spotipy-dev/spotipy/tree/master/examples) to find some good code to base your answer off of. There are a handful that talk about playlists – it might be helpful to read and compare a few of them!\n",
    "- Getting the playlist name/description is **a different endpoint** than getting the actual songs on the playlist.\n",
    "- Are you printing out the **same number of tracks as are in the actual playlist?** Take note and be careful! It should be ~476.\n",
    "- If you're getting the id of playlist songs but not seeing song names, look for `fields='items.track.id,total` in your code. It's only pulling the track's id! Change it to `items.track,total` and it will return [more information about each track](https://developer.spotify.com/documentation/web-api/reference/get-playlists-tracks)\n",
    "- `all_tracks = []` should be the first line in your cell. That makes sure it always resets to being empty before you start adding tracks to it.\n",
    "- Be sure the first and last items in `all_tracks` are different – maybe you're accidentally adding the same item each time!\n",
    "- Normally we sort lists of numbers, which is easy. Sorting a list of dictionaries can be done easily with `key=`. Look it up!\n",
    "- Pick the most popular 10 songs using list comprehensions\n",
    "- Filtering is best done with a list comprehension.\n",
    "- You can sort by things that aren't numbers!"
   ]
  },
  {
   "cell_type": "markdown",
   "id": "2831a044-8ca4-4cbd-a81d-73b683e8b94b",
   "metadata": {},
   "source": [
    "#### 1. What are the ten most popular songs on the playlist?"
   ]
  },
  {
   "cell_type": "code",
   "execution_count": 6,
   "id": "efb5b67b-0813-48f3-94ec-17026c410f3b",
   "metadata": {},
   "outputs": [],
   "source": [
    "results = sp.search(q='playlist:Fall in a 90s Suburb', type='playlist')"
   ]
  },
  {
   "cell_type": "code",
   "execution_count": 28,
   "id": "64a4bbb3-d3dc-44b3-bc15-463b0b7e7dd7",
   "metadata": {},
   "outputs": [
    {
     "data": {
      "text/plain": [
       "['if mid90s had a playlist 🤤',\n",
       " 'Soft playlist to fall asleep',\n",
       " '°•~subliminals to listen to while you sleep~•°',\n",
       " 'songs that feel like fall 🍂',\n",
       " '﹒ꕀ .\\u2007\\u2007soft playlist\\u2007\\u2007!\\u2007\\u2007୧',\n",
       " 'Playlist that makes you feel like an insane villain',\n",
       " 'rainy autumn day in a coffee shop in the 90’s',\n",
       " '🍂🍁90s fall vibes🍁🍂',\n",
       " 'Pov: you wanna kys || ★vent playlist ★||',\n",
       " 'pov: you can’t fall asleep at night']"
      ]
     },
     "execution_count": 28,
     "metadata": {},
     "output_type": "execute_result"
    }
   ],
   "source": [
    "[item['name'] for item in results['playlists']['items']]"
   ]
  },
  {
   "cell_type": "markdown",
   "id": "8c602565-c57d-44ea-8520-93a09f585f41",
   "metadata": {},
   "source": [
    "Well, that didn't work!"
   ]
  },
  {
   "cell_type": "code",
   "execution_count": 127,
   "id": "03d53bd2-f7c8-4830-b171-75a3a90ecdd0",
   "metadata": {},
   "outputs": [],
   "source": [
    "pl_id = 'spotify:playlist:7r2XnAUl6moWkcwOaWgihD'\n",
    "playlist_id = '7r2XnAUl6moWkcwOaWgihD'\n",
    "offset=0\n",
    "\n",
    "response = sp.playlist(playlist_id)"
   ]
  },
  {
   "cell_type": "code",
   "execution_count": 36,
   "id": "c5f72a7f-2847-4543-9eed-961dce2595d5",
   "metadata": {},
   "outputs": [
    {
     "data": {
      "text/plain": [
       "dict_keys(['collaborative', 'description', 'external_urls', 'followers', 'href', 'id', 'images', 'name', 'owner', 'primary_color', 'public', 'snapshot_id', 'tracks', 'type', 'uri'])"
      ]
     },
     "execution_count": 36,
     "metadata": {},
     "output_type": "execute_result"
    }
   ],
   "source": [
    "response.keys()"
   ]
  },
  {
   "cell_type": "code",
   "execution_count": 40,
   "id": "93e11e0e-e569-4fe7-8fe3-89efb5bd034a",
   "metadata": {},
   "outputs": [
    {
     "data": {
      "text/plain": [
       "dict_keys(['href', 'items', 'limit', 'next', 'offset', 'previous', 'total'])"
      ]
     },
     "execution_count": 40,
     "metadata": {},
     "output_type": "execute_result"
    }
   ],
   "source": [
    "response['tracks'].keys()"
   ]
  },
  {
   "cell_type": "code",
   "execution_count": 41,
   "id": "a0e63d62-68c1-4c26-bde4-48bdedb1ee38",
   "metadata": {},
   "outputs": [
    {
     "data": {
      "text/plain": [
       "476"
      ]
     },
     "execution_count": 41,
     "metadata": {},
     "output_type": "execute_result"
    }
   ],
   "source": [
    "response['tracks']['total']"
   ]
  },
  {
   "cell_type": "code",
   "execution_count": 47,
   "id": "69101717-300b-4dc8-8762-63468cb65748",
   "metadata": {},
   "outputs": [
    {
     "data": {
      "text/plain": [
       "'https://api.spotify.com/v1/playlists/7r2XnAUl6moWkcwOaWgihD/tracks?offset=100&limit=100&additional_types=track'"
      ]
     },
     "execution_count": 47,
     "metadata": {},
     "output_type": "execute_result"
    }
   ],
   "source": [
    "response['tracks']['next']"
   ]
  },
  {
   "cell_type": "code",
   "execution_count": 51,
   "id": "a9d90ddc-1dcf-4561-92e3-d11a29eb179c",
   "metadata": {},
   "outputs": [
    {
     "data": {
      "text/plain": [
       "dict_keys(['added_at', 'added_by', 'is_local', 'primary_color', 'track', 'video_thumbnail'])"
      ]
     },
     "execution_count": 51,
     "metadata": {},
     "output_type": "execute_result"
    }
   ],
   "source": [
    "response['tracks']['items'][0].keys()"
   ]
  },
  {
   "cell_type": "code",
   "execution_count": 53,
   "id": "f2423c08-e20f-4d84-96df-72dcd2840b3f",
   "metadata": {},
   "outputs": [
    {
     "data": {
      "text/plain": [
       "dict_keys(['preview_url', 'available_markets', 'explicit', 'type', 'episode', 'track', 'album', 'artists', 'disc_number', 'track_number', 'duration_ms', 'external_ids', 'external_urls', 'href', 'id', 'name', 'popularity', 'uri', 'is_local'])"
      ]
     },
     "execution_count": 53,
     "metadata": {},
     "output_type": "execute_result"
    }
   ],
   "source": [
    "response['tracks']['items'][0]['track'].keys()"
   ]
  },
  {
   "cell_type": "code",
   "execution_count": 59,
   "id": "202d45e7-17f7-4d24-87c5-a26b2618f5e2",
   "metadata": {},
   "outputs": [
    {
     "name": "stdout",
     "output_type": "stream",
     "text": [
      "Waiting For October 32\n"
     ]
    }
   ],
   "source": [
    "print(response['tracks']['items'][0]['track']['name'],response['tracks']['items'][0]['track']['popularity'])"
   ]
  },
  {
   "cell_type": "code",
   "execution_count": 88,
   "id": "adf0ad6c-4500-4122-b4a5-c331d0e973ca",
   "metadata": {},
   "outputs": [
    {
     "data": {
      "text/plain": [
       "dict_keys(['href', 'items', 'limit', 'next', 'offset', 'previous', 'total'])"
      ]
     },
     "execution_count": 88,
     "metadata": {},
     "output_type": "execute_result"
    }
   ],
   "source": [
    "tracks = sp.playlist_tracks(playlist_id, offset=offset)\n",
    "tracks.keys()"
   ]
  },
  {
   "cell_type": "code",
   "execution_count": 95,
   "id": "5aea38c2-e447-4664-9e72-a01e3fad9c6f",
   "metadata": {},
   "outputs": [
    {
     "name": "stdout",
     "output_type": "stream",
     "text": [
      "None\n"
     ]
    }
   ],
   "source": [
    "tracks = sp.playlist_tracks(playlist_id, offset=400)\n",
    "print(tracks['next'])"
   ]
  },
  {
   "cell_type": "code",
   "execution_count": 120,
   "id": "0b77ae15-2465-4711-b0b4-546c188a8fca",
   "metadata": {},
   "outputs": [],
   "source": [
    "offset = 0\n",
    "while True:\n",
    "    tracks = sp.playlist_tracks(playlist_id, offset=offset)\n",
    "#    for item in tracks['items']:\n",
    "#        print(f\"Title: {item['track']['name']}    |    Popularity:{item['track']['popularity']}\")\n",
    "    offset=offset+len(tracks['items'])\n",
    "    if tracks['next'] == None:\n",
    "        break"
   ]
  },
  {
   "cell_type": "code",
   "execution_count": 121,
   "id": "1aa85dec-ec51-400f-a787-bb30c21f9fb2",
   "metadata": {},
   "outputs": [],
   "source": [
    "playlist = []\n",
    "offset = 0\n",
    "while True:\n",
    "    tracks = sp.playlist_tracks(playlist_id, offset=offset)\n",
    "    for item in tracks['items']:\n",
    "        dict = {}\n",
    "        dict['title'] = item['track']['name']\n",
    "        dict['popularity'] = item['track']['popularity']\n",
    "        artists = []\n",
    "        for artist in item['track']['artists']:\n",
    "            artists.append(artist['name'])\n",
    "        dict['artist'] = artists\n",
    "        playlist.append(dict)\n",
    "    offset=offset+len(tracks['items'])\n",
    "    if tracks['next'] == None:\n",
    "        break"
   ]
  },
  {
   "cell_type": "code",
   "execution_count": 126,
   "id": "36f81031-6ae1-46aa-955d-cd0c1683c052",
   "metadata": {},
   "outputs": [
    {
     "name": "stdout",
     "output_type": "stream",
     "text": [
      "The top 10 songs by popularity are:\n",
      "'1979 - Remastered 2012' by The Smashing Pumpkins with a popularity of 81\n",
      "'Today - 2011 Remaster' by The Smashing Pumpkins with a popularity of 74\n",
      "'Cherry-coloured Funk' by Cocteau Twins with a popularity of 71\n",
      "'Halah' by Mazzy Star with a popularity of 70\n",
      "'Coffee & TV' by Blur with a popularity of 67\n",
      "'Drown' by The Smashing Pumpkins with a popularity of 66\n",
      "'When You Sleep' by my bloody valentine with a popularity of 65\n",
      "'She Bangs the Drums - Remastered 2009' by The Stone Roses with a popularity of 65\n",
      "'This Is the One - Remastered 2009' by The Stone Roses with a popularity of 59\n",
      "'Iceblink Luck' by Cocteau Twins with a popularity of 59\n"
     ]
    }
   ],
   "source": [
    "sorted_playlist = sorted(playlist, key=lambda item: item['popularity'], reverse=True)\n",
    "print(\"The top 10 songs by popularity are:\" )\n",
    "for song in sorted_playlist[:10]:\n",
    "    print(f\"'{song['title']}' by {song['artist'][0]} with a popularity of {song['popularity']}\")"
   ]
  },
  {
   "cell_type": "markdown",
   "id": "01ad0217-00e8-4be1-a0a7-0361c856fd3c",
   "metadata": {},
   "source": [
    "#### 2. What percentage of them have a popularity of zero? Print them out, sorted by the band name."
   ]
  },
  {
   "cell_type": "code",
   "execution_count": 130,
   "id": "5396b19f-3a03-43ef-b579-f5cf09db5464",
   "metadata": {},
   "outputs": [
    {
     "data": {
      "text/plain": [
       "190"
      ]
     },
     "execution_count": 130,
     "metadata": {},
     "output_type": "execute_result"
    }
   ],
   "source": [
    "zeroes = []\n",
    "for item in playlist:\n",
    "    if item['popularity'] == 0:\n",
    "        zeroes.append(item)\n",
    "len(zeroes)"
   ]
  },
  {
   "cell_type": "code",
   "execution_count": 148,
   "id": "3110dcac-cf39-4794-af04-e6b8c1d51fd9",
   "metadata": {},
   "outputs": [],
   "source": [
    "zero_bands = {}\n",
    "for item in zeroes:\n",
    "    artist = item['artist'][0]\n",
    "    try:\n",
    "        zero_bands[artist] = zero_bands[artist] + 1\n",
    "    except:\n",
    "        zero_bands[artist] = 1"
   ]
  },
  {
   "cell_type": "code",
   "execution_count": 168,
   "id": "893b03dc-8706-4e51-a59d-73286e837b35",
   "metadata": {},
   "outputs": [],
   "source": [
    "bandses = {}\n",
    "for item in playlist:\n",
    "    artist = item['artist'][0]\n",
    "    try:\n",
    "        bandses[artist] = bandses[artist] + 1\n",
    "    except:\n",
    "        bandses[artist] = 1"
   ]
  },
  {
   "cell_type": "code",
   "execution_count": 160,
   "id": "924724fb-ac68-42f8-81f4-89038bedf5d0",
   "metadata": {},
   "outputs": [
    {
     "data": {
      "text/plain": [
       "{'Pavement': 17,\n",
       " 'The Amps': 4,\n",
       " 'Pinback': 1,\n",
       " 'Teenage Fanclub': 5,\n",
       " 'Yo La Tengo': 18,\n",
       " 'Lush': 4,\n",
       " 'Velocity Girl': 3,\n",
       " 'Stereolab': 10,\n",
       " 'Tiger Trap': 4,\n",
       " 'The Lemonheads': 6,\n",
       " 'Black Tambourine': 3,\n",
       " 'Elliott Smith': 2,\n",
       " 'Guided By Voices': 7,\n",
       " 'The Breeders': 3,\n",
       " 'Noise Addict': 2,\n",
       " 'Superchunk': 7,\n",
       " 'of Montreal': 6,\n",
       " 'Built To Spill': 2,\n",
       " 'Stephen Malkmus': 1,\n",
       " 'Cocteau Twins': 4,\n",
       " 'Sebadoh': 4,\n",
       " 'Pixies': 2,\n",
       " 'The Shins': 3,\n",
       " 'Dinosaur Jr.': 4,\n",
       " 'The Magnetic Fields': 7,\n",
       " 'Grandaddy': 2,\n",
       " 'Belle and Sebastian': 5,\n",
       " 'The Sundays': 3,\n",
       " 'Pale Saints': 5,\n",
       " 'McCarthy': 3,\n",
       " 'Beat Happening': 2,\n",
       " 'Modest Mouse': 1,\n",
       " 'The Bigger Lovers': 2,\n",
       " 'The Olivia Tremor Control': 2,\n",
       " 'Archers Of Loaf': 2,\n",
       " 'Camera Obscura': 1,\n",
       " 'The Clientele': 1,\n",
       " 'A.R. Kane': 1,\n",
       " 'Sleater-Kinney': 1,\n",
       " 'Duster': 2,\n",
       " 'The Pastels': 3,\n",
       " \"Alison's Halo\": 1,\n",
       " 'Throwing Muses': 1,\n",
       " 'Sammy': 1,\n",
       " 'The Softies': 1,\n",
       " 'The Clean': 1,\n",
       " 'Sugar': 1,\n",
       " 'Spirea X': 2,\n",
       " 'Galaxie 500': 1,\n",
       " \"Eric's Trip\": 1,\n",
       " 'Velvet Crush': 2,\n",
       " 'The Springfields': 1,\n",
       " 'Bailter Space': 1,\n",
       " 'Unrest': 1,\n",
       " 'Lois': 1,\n",
       " 'Spraydog': 1,\n",
       " 'The Bats': 1,\n",
       " 'Beatnik Filmstars': 1,\n",
       " 'Flake Music': 1,\n",
       " 'SEAGULL SCREAMING KISS HER KISS HER': 1,\n",
       " 'The Bevis Frond': 1,\n",
       " 'The Feelies': 1,\n",
       " 'The House of Love': 1,\n",
       " 'Red House Painters': 1}"
      ]
     },
     "execution_count": 160,
     "metadata": {},
     "output_type": "execute_result"
    }
   ],
   "source": [
    "zero_bands"
   ]
  },
  {
   "cell_type": "code",
   "execution_count": 167,
   "id": "99328065-5f13-4010-9d13-2a604ef942dc",
   "metadata": {},
   "outputs": [
    {
     "data": {
      "text/plain": [
       "{}"
      ]
     },
     "execution_count": 167,
     "metadata": {},
     "output_type": "execute_result"
    }
   ],
   "source": [
    "bandses"
   ]
  },
  {
   "cell_type": "code",
   "execution_count": 153,
   "id": "e7fc54f3-cb66-4e56-a7e9-8370dd980b0e",
   "metadata": {},
   "outputs": [],
   "source": [
    "zeroes_new = [item for item in playlist if item['popularity']==0]"
   ]
  },
  {
   "cell_type": "code",
   "execution_count": 175,
   "id": "1e9600bc-f16b-404d-8810-ec16d6cd0de4",
   "metadata": {},
   "outputs": [],
   "source": [
    "bands = []\n",
    "for k, v in bandses.items():\n",
    "    banddict = {}\n",
    "    banddict['name']=k\n",
    "    banddict['tracks']=v\n",
    "    try:\n",
    "        banddict['zeroes']=zero_bands[k]\n",
    "    except:\n",
    "        banddict['zeroes']=0\n",
    "    banddict['percentage'] = int(banddict['zeroes'] / banddict['tracks'] * 100)\n",
    "    bands.append(banddict)"
   ]
  },
  {
   "cell_type": "code",
   "execution_count": 177,
   "id": "3fe695e6-2f40-46db-88cd-b417b5c05f5f",
   "metadata": {},
   "outputs": [
    {
     "data": {
      "text/plain": [
       "[{'name': '14 Iced Bears', 'tracks': 2, 'zeroes': 0, 'percentage': 0},\n",
       " {'name': 'A.R. Kane', 'tracks': 1, 'zeroes': 1, 'percentage': 100},\n",
       " {'name': 'Acetone', 'tracks': 1, 'zeroes': 0, 'percentage': 0},\n",
       " {'name': 'Aden', 'tracks': 1, 'zeroes': 0, 'percentage': 0},\n",
       " {'name': 'Air Miami', 'tracks': 1, 'zeroes': 0, 'percentage': 0},\n",
       " {'name': \"Alison's Halo\", 'tracks': 1, 'zeroes': 1, 'percentage': 100},\n",
       " {'name': 'Another Sunny Day', 'tracks': 2, 'zeroes': 0, 'percentage': 0},\n",
       " {'name': 'Archers Of Loaf', 'tracks': 2, 'zeroes': 2, 'percentage': 100},\n",
       " {'name': 'Bailter Space', 'tracks': 1, 'zeroes': 1, 'percentage': 100},\n",
       " {'name': 'Beat Happening', 'tracks': 2, 'zeroes': 2, 'percentage': 100},\n",
       " {'name': 'Beatnik Filmstars', 'tracks': 1, 'zeroes': 1, 'percentage': 100},\n",
       " {'name': 'Belle and Sebastian', 'tracks': 5, 'zeroes': 5, 'percentage': 100},\n",
       " {'name': 'Belly', 'tracks': 1, 'zeroes': 0, 'percentage': 0},\n",
       " {'name': 'Bettie Serveert', 'tracks': 1, 'zeroes': 0, 'percentage': 0},\n",
       " {'name': 'Beulah', 'tracks': 5, 'zeroes': 0, 'percentage': 0},\n",
       " {'name': 'Black Tambourine', 'tracks': 3, 'zeroes': 3, 'percentage': 100},\n",
       " {'name': 'Blake Babies', 'tracks': 3, 'zeroes': 0, 'percentage': 0},\n",
       " {'name': 'Blur', 'tracks': 1, 'zeroes': 0, 'percentage': 0},\n",
       " {'name': 'Brittle Stars', 'tracks': 2, 'zeroes': 0, 'percentage': 0},\n",
       " {'name': 'Built To Spill', 'tracks': 5, 'zeroes': 2, 'percentage': 40},\n",
       " {'name': 'Camera Obscura', 'tracks': 2, 'zeroes': 1, 'percentage': 50},\n",
       " {'name': 'Camper Van Beethoven', 'tracks': 1, 'zeroes': 0, 'percentage': 0},\n",
       " {'name': 'Chapterhouse', 'tracks': 5, 'zeroes': 0, 'percentage': 0},\n",
       " {'name': 'Cocteau Twins', 'tracks': 7, 'zeroes': 4, 'percentage': 57},\n",
       " {'name': 'Dear Nora', 'tracks': 5, 'zeroes': 0, 'percentage': 0},\n",
       " {'name': 'Dinosaur Jr.', 'tracks': 6, 'zeroes': 4, 'percentage': 66},\n",
       " {'name': 'Dressy Bessy', 'tracks': 2, 'zeroes': 0, 'percentage': 0},\n",
       " {'name': 'Drop Nineteens', 'tracks': 2, 'zeroes': 0, 'percentage': 0},\n",
       " {'name': 'Duster', 'tracks': 2, 'zeroes': 2, 'percentage': 100},\n",
       " {'name': 'Elliott Smith', 'tracks': 3, 'zeroes': 2, 'percentage': 66},\n",
       " {'name': \"Eric's Trip\", 'tracks': 2, 'zeroes': 1, 'percentage': 50},\n",
       " {'name': 'Flake Music', 'tracks': 2, 'zeroes': 1, 'percentage': 50},\n",
       " {'name': 'For Against', 'tracks': 2, 'zeroes': 0, 'percentage': 0},\n",
       " {'name': 'Fountains Of Wayne', 'tracks': 3, 'zeroes': 0, 'percentage': 0},\n",
       " {'name': 'Galaxie 500', 'tracks': 4, 'zeroes': 1, 'percentage': 25},\n",
       " {'name': 'Grandaddy', 'tracks': 3, 'zeroes': 2, 'percentage': 66},\n",
       " {'name': 'Guided By Voices', 'tracks': 20, 'zeroes': 7, 'percentage': 35},\n",
       " {'name': 'Heatmiser', 'tracks': 1, 'zeroes': 0, 'percentage': 0},\n",
       " {'name': 'Heavenly', 'tracks': 5, 'zeroes': 0, 'percentage': 0},\n",
       " {'name': 'Hüsker Dü', 'tracks': 2, 'zeroes': 0, 'percentage': 0},\n",
       " {'name': 'Life Without Buildings', 'tracks': 1, 'zeroes': 0, 'percentage': 0},\n",
       " {'name': 'Lilys', 'tracks': 8, 'zeroes': 0, 'percentage': 0},\n",
       " {'name': 'Lois', 'tracks': 1, 'zeroes': 1, 'percentage': 100},\n",
       " {'name': 'Luna', 'tracks': 3, 'zeroes': 0, 'percentage': 0},\n",
       " {'name': 'Lunchbox', 'tracks': 2, 'zeroes': 0, 'percentage': 0},\n",
       " {'name': 'Lush', 'tracks': 7, 'zeroes': 4, 'percentage': 57},\n",
       " {'name': 'Magnapop', 'tracks': 1, 'zeroes': 0, 'percentage': 0},\n",
       " {'name': 'Matthew Sweet', 'tracks': 2, 'zeroes': 0, 'percentage': 0},\n",
       " {'name': 'Mazzy Star', 'tracks': 2, 'zeroes': 0, 'percentage': 0},\n",
       " {'name': 'McCarthy', 'tracks': 3, 'zeroes': 3, 'percentage': 100},\n",
       " {'name': 'Meat Puppets', 'tracks': 1, 'zeroes': 0, 'percentage': 0},\n",
       " {'name': 'Medicine', 'tracks': 2, 'zeroes': 0, 'percentage': 0},\n",
       " {'name': 'Miracle Legion', 'tracks': 1, 'zeroes': 0, 'percentage': 0},\n",
       " {'name': 'Modest Mouse', 'tracks': 3, 'zeroes': 1, 'percentage': 33},\n",
       " {'name': 'Mumbly', 'tracks': 1, 'zeroes': 0, 'percentage': 0},\n",
       " {'name': 'Noise Addict', 'tracks': 2, 'zeroes': 2, 'percentage': 100},\n",
       " {'name': 'Oasis', 'tracks': 2, 'zeroes': 0, 'percentage': 0},\n",
       " {'name': 'Pale Saints', 'tracks': 6, 'zeroes': 5, 'percentage': 83},\n",
       " {'name': 'Pavement', 'tracks': 19, 'zeroes': 17, 'percentage': 89},\n",
       " {'name': 'Pinback', 'tracks': 1, 'zeroes': 1, 'percentage': 100},\n",
       " {'name': 'Pixies', 'tracks': 3, 'zeroes': 2, 'percentage': 66},\n",
       " {'name': 'Plumtree', 'tracks': 2, 'zeroes': 0, 'percentage': 0},\n",
       " {'name': 'Polaris', 'tracks': 4, 'zeroes': 0, 'percentage': 0},\n",
       " {'name': 'Polvo', 'tracks': 1, 'zeroes': 0, 'percentage': 0},\n",
       " {'name': 'Poole', 'tracks': 2, 'zeroes': 0, 'percentage': 0},\n",
       " {'name': 'Primal Scream', 'tracks': 1, 'zeroes': 0, 'percentage': 0},\n",
       " {'name': 'R.E.M.', 'tracks': 5, 'zeroes': 0, 'percentage': 0},\n",
       " {'name': 'Red House Painters', 'tracks': 1, 'zeroes': 1, 'percentage': 100},\n",
       " {'name': 'Ride', 'tracks': 10, 'zeroes': 0, 'percentage': 0},\n",
       " {'name': 'Rocketship', 'tracks': 2, 'zeroes': 0, 'percentage': 0},\n",
       " {'name': 'SEAGULL SCREAMING KISS HER KISS HER',\n",
       "  'tracks': 1,\n",
       "  'zeroes': 1,\n",
       "  'percentage': 100},\n",
       " {'name': 'Sammy', 'tracks': 2, 'zeroes': 1, 'percentage': 50},\n",
       " {'name': 'Sebadoh', 'tracks': 5, 'zeroes': 4, 'percentage': 80},\n",
       " {'name': 'Secret Shine', 'tracks': 1, 'zeroes': 0, 'percentage': 0},\n",
       " {'name': 'Shonen Knife', 'tracks': 1, 'zeroes': 0, 'percentage': 0},\n",
       " {'name': 'Should', 'tracks': 1, 'zeroes': 0, 'percentage': 0},\n",
       " {'name': 'Sleater-Kinney', 'tracks': 1, 'zeroes': 1, 'percentage': 100},\n",
       " {'name': 'Sloan', 'tracks': 1, 'zeroes': 0, 'percentage': 0},\n",
       " {'name': 'Slowdive', 'tracks': 1, 'zeroes': 0, 'percentage': 0},\n",
       " {'name': 'Small Factory', 'tracks': 2, 'zeroes': 0, 'percentage': 0},\n",
       " {'name': 'Spacemen 3', 'tracks': 1, 'zeroes': 0, 'percentage': 0},\n",
       " {'name': 'Spirea X', 'tracks': 2, 'zeroes': 2, 'percentage': 100},\n",
       " {'name': 'Spraydog', 'tracks': 1, 'zeroes': 1, 'percentage': 100},\n",
       " {'name': 'Stephen Malkmus', 'tracks': 1, 'zeroes': 1, 'percentage': 100},\n",
       " {'name': 'Stereolab', 'tracks': 10, 'zeroes': 10, 'percentage': 100},\n",
       " {'name': 'Sugar', 'tracks': 1, 'zeroes': 1, 'percentage': 100},\n",
       " {'name': 'Superchunk', 'tracks': 7, 'zeroes': 7, 'percentage': 100},\n",
       " {'name': 'Sweet Trip', 'tracks': 1, 'zeroes': 0, 'percentage': 0},\n",
       " {'name': 'Swirlies', 'tracks': 3, 'zeroes': 0, 'percentage': 0},\n",
       " {'name': 'Talulah Gosh', 'tracks': 1, 'zeroes': 0, 'percentage': 0},\n",
       " {'name': 'Teenage Fanclub', 'tracks': 20, 'zeroes': 5, 'percentage': 25},\n",
       " {'name': 'The 6ths', 'tracks': 2, 'zeroes': 0, 'percentage': 0},\n",
       " {'name': 'The Aislers Set', 'tracks': 1, 'zeroes': 0, 'percentage': 0},\n",
       " {'name': 'The Amps', 'tracks': 4, 'zeroes': 4, 'percentage': 100},\n",
       " {'name': 'The Apples In Stereo', 'tracks': 12, 'zeroes': 0, 'percentage': 0},\n",
       " {'name': 'The Bats', 'tracks': 7, 'zeroes': 1, 'percentage': 14},\n",
       " {'name': 'The Bevis Frond', 'tracks': 1, 'zeroes': 1, 'percentage': 100},\n",
       " {'name': 'The Bigger Lovers', 'tracks': 2, 'zeroes': 2, 'percentage': 100},\n",
       " {'name': 'The Boo Radleys', 'tracks': 7, 'zeroes': 0, 'percentage': 0},\n",
       " {'name': 'The Breeders', 'tracks': 5, 'zeroes': 3, 'percentage': 60},\n",
       " {'name': 'The Clean', 'tracks': 3, 'zeroes': 1, 'percentage': 33},\n",
       " {'name': 'The Clientele', 'tracks': 2, 'zeroes': 1, 'percentage': 50},\n",
       " {'name': 'The Feelies', 'tracks': 2, 'zeroes': 1, 'percentage': 50},\n",
       " {'name': 'The Field Mice', 'tracks': 5, 'zeroes': 0, 'percentage': 0},\n",
       " {'name': 'The Flaming Lips', 'tracks': 3, 'zeroes': 0, 'percentage': 0},\n",
       " {'name': 'The Gerbils', 'tracks': 2, 'zeroes': 0, 'percentage': 0},\n",
       " {'name': 'The Go-Betweens', 'tracks': 1, 'zeroes': 0, 'percentage': 0},\n",
       " {'name': 'The House of Love', 'tracks': 1, 'zeroes': 1, 'percentage': 100},\n",
       " {'name': 'The Invisible Cities', 'tracks': 1, 'zeroes': 0, 'percentage': 0},\n",
       " {'name': 'The Jesus and Mary Chain',\n",
       "  'tracks': 7,\n",
       "  'zeroes': 0,\n",
       "  'percentage': 0},\n",
       " {'name': 'The Lemonheads', 'tracks': 6, 'zeroes': 6, 'percentage': 100},\n",
       " {'name': 'The Magnetic Fields', 'tracks': 10, 'zeroes': 7, 'percentage': 70},\n",
       " {'name': 'The Minders', 'tracks': 1, 'zeroes': 0, 'percentage': 0},\n",
       " {'name': 'The Olivia Tremor Control',\n",
       "  'tracks': 3,\n",
       "  'zeroes': 2,\n",
       "  'percentage': 66},\n",
       " {'name': 'The Pastels', 'tracks': 3, 'zeroes': 3, 'percentage': 100},\n",
       " {'name': 'The Rentals', 'tracks': 1, 'zeroes': 0, 'percentage': 0},\n",
       " {'name': 'The Replacements', 'tracks': 4, 'zeroes': 0, 'percentage': 0},\n",
       " {'name': 'The Ropers', 'tracks': 2, 'zeroes': 0, 'percentage': 0},\n",
       " {'name': 'The Shins', 'tracks': 3, 'zeroes': 3, 'percentage': 100},\n",
       " {'name': 'The Smashing Pumpkins', 'tracks': 3, 'zeroes': 0, 'percentage': 0},\n",
       " {'name': 'The Smiths', 'tracks': 1, 'zeroes': 0, 'percentage': 0},\n",
       " {'name': 'The Softies', 'tracks': 1, 'zeroes': 1, 'percentage': 100},\n",
       " {'name': 'The Springfields', 'tracks': 1, 'zeroes': 1, 'percentage': 100},\n",
       " {'name': 'The Stone Roses', 'tracks': 4, 'zeroes': 0, 'percentage': 0},\n",
       " {'name': 'The Sundays', 'tracks': 4, 'zeroes': 3, 'percentage': 75},\n",
       " {'name': 'The Vaselines', 'tracks': 1, 'zeroes': 0, 'percentage': 0},\n",
       " {'name': 'The Wedding Present', 'tracks': 1, 'zeroes': 0, 'percentage': 0},\n",
       " {'name': 'Throwing Muses', 'tracks': 1, 'zeroes': 1, 'percentage': 100},\n",
       " {'name': 'Tiger Trap', 'tracks': 4, 'zeroes': 4, 'percentage': 100},\n",
       " {'name': 'Tuscadero', 'tracks': 1, 'zeroes': 0, 'percentage': 0},\n",
       " {'name': 'Unrest', 'tracks': 4, 'zeroes': 1, 'percentage': 25},\n",
       " {'name': 'Urusei Yatsura', 'tracks': 1, 'zeroes': 0, 'percentage': 0},\n",
       " {'name': 'Velocity Girl', 'tracks': 5, 'zeroes': 3, 'percentage': 60},\n",
       " {'name': 'Velvet Crush', 'tracks': 4, 'zeroes': 2, 'percentage': 50},\n",
       " {'name': 'Veruca Salt', 'tracks': 2, 'zeroes': 0, 'percentage': 0},\n",
       " {'name': 'Wilco', 'tracks': 1, 'zeroes': 0, 'percentage': 0},\n",
       " {'name': 'Yo La Tengo', 'tracks': 25, 'zeroes': 18, 'percentage': 72},\n",
       " {'name': 'my bloody valentine', 'tracks': 18, 'zeroes': 0, 'percentage': 0},\n",
       " {'name': 'of Montreal', 'tracks': 6, 'zeroes': 6, 'percentage': 100},\n",
       " {'name': 'that dog.', 'tracks': 4, 'zeroes': 0, 'percentage': 0}]"
      ]
     },
     "execution_count": 177,
     "metadata": {},
     "output_type": "execute_result"
    }
   ],
   "source": [
    "sorted(bands, key=lambda artist: artist['name'])"
   ]
  }
 ],
 "metadata": {
  "kernelspec": {
   "display_name": "Python 3 (ipykernel)",
   "language": "python",
   "name": "python3"
  },
  "language_info": {
   "codemirror_mode": {
    "name": "ipython",
    "version": 3
   },
   "file_extension": ".py",
   "mimetype": "text/x-python",
   "name": "python",
   "nbconvert_exporter": "python",
   "pygments_lexer": "ipython3",
   "version": "3.12.10"
  }
 },
 "nbformat": 4,
 "nbformat_minor": 5
}
